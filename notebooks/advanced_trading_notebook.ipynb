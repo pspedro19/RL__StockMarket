{
  "cells": [
    {
      "cell_type": "raw",
      "metadata": {
        "vscode": {
          "languageId": "raw"
        }
      },
      "source": [
        "# 🚀 SISTEMA AVANZADO DE TRADING CON IA\n",
        "\n",
        "## Análisis Completo con Métricas Financieras, PID, MAPE y Curvas de Aprendizaje\n",
        "\n",
        "### Características:\n",
        "- 📊 **Métricas Financieras**: Sharpe, Profit Factor, Drawdown\n",
        "- 🎯 **Control PID**: Optimización automática de señales\n",
        "- 🔍 **MAPE**: Error de predicción ML\n",
        "- 🆔 **Sistema de IDs**: Tracking completo de trades\n",
        "- 📈 **Datos SP500**: Integración con Yahoo Finance\n",
        "- ₿ **Binance Ready**: Preparado para Bitcoin trading\n"
      ]
    },
    {
      "cell_type": "raw",
      "metadata": {
        "vscode": {
          "languageId": "raw"
        }
      },
      "source": [
        "## 1. 📦 Importaciones y Configuración\n"
      ]
    },
    {
      "cell_type": "code",
      "execution_count": null,
      "metadata": {},
      "outputs": [],
      "source": [
        "# Configuración inicial\n",
        "import warnings\n",
        "warnings.filterwarnings('ignore')\n",
        "\n",
        "import sys\n",
        "import os\n",
        "import numpy as np\n",
        "import pandas as pd\n",
        "import matplotlib.pyplot as plt\n",
        "from IPython.display import display, HTML, Image\n",
        "import seaborn as sns\n",
        "\n",
        "# Configurar matplotlib para notebook\n",
        "%matplotlib inline\n",
        "plt.style.use('dark_background')\n",
        "plt.rcParams['figure.figsize'] = (12, 8)\n",
        "plt.rcParams['font.size'] = 10\n",
        "\n",
        "print(\"✅ Librerías básicas cargadas\")\n"
      ]
    },
    {
      "cell_type": "code",
      "execution_count": null,
      "metadata": {},
      "outputs": [],
      "source": [
        "# Importar nuestro sistema avanzado\n",
        "try:\n",
        "    # Agregar ruta del proyecto\n",
        "    if '.' not in sys.path:\n",
        "        sys.path.append('.')\n",
        "    \n",
        "    from src.agents.advanced_trading_analytics import AdvancedTradingAnalytics, Trade, PIDController\n",
        "    print(\"✅ Sistema avanzado de trading importado\")\n",
        "    \n",
        "    # Verificar dependencias opcionales\n",
        "    try:\n",
        "        import yfinance as yf\n",
        "        print(\"✅ Yahoo Finance disponible\")\n",
        "    except ImportError:\n",
        "        print(\"⚠️ Yahoo Finance no disponible - se usarán datos simulados\")\n",
        "    \n",
        "    try:\n",
        "        import ccxt\n",
        "        print(\"✅ CCXT disponible para Binance\")\n",
        "    except ImportError:\n",
        "        print(\"⚠️ CCXT no disponible - instalar: pip install ccxt\")\n",
        "\n",
        "except ImportError as e:\n",
        "    print(f\"❌ Error importando sistema: {e}\")\n",
        "    print(\"💡 Asegúrate de ejecutar desde la raíz del proyecto\")\n"
      ]
    },
    {
      "cell_type": "raw",
      "metadata": {
        "vscode": {
          "languageId": "raw"
        }
      },
      "source": [
        "## 2. 🚀 Inicialización del Sistema\n"
      ]
    },
    {
      "cell_type": "code",
      "execution_count": null,
      "metadata": {},
      "outputs": [],
      "source": [
        "# Configuración del sistema\n",
        "SYMBOL = 'SPY'  # S&P 500 ETF\n",
        "USE_BINANCE = False  # Cambiar a True para usar Binance\n",
        "DATA_PERIOD = '1y'  # Período de datos\n",
        "\n",
        "print(f\"🎯 Configuración:\")\n",
        "print(f\"   Símbolo: {SYMBOL}\")\n",
        "print(f\"   Fuente: {'Binance' if USE_BINANCE else 'Yahoo Finance (SP500)'}\")\n",
        "print(f\"   Período: {DATA_PERIOD}\")\n",
        "\n",
        "# Crear sistema\n",
        "system = AdvancedTradingAnalytics(symbol=SYMBOL, use_binance=USE_BINANCE)\n",
        "print(\"\\\\n✅ Sistema inicializado\")\n"
      ]
    },
    {
      "cell_type": "raw",
      "metadata": {
        "vscode": {
          "languageId": "raw"
        }
      },
      "source": [
        "## 3. 📊 Carga de Datos\n"
      ]
    },
    {
      "cell_type": "code",
      "execution_count": null,
      "metadata": {},
      "outputs": [],
      "source": [
        "# Cargar datos\n",
        "if USE_BINANCE:\n",
        "    success = system.load_binance_data(timeframe='1h', limit=1000)\n",
        "else:\n",
        "    success = system.load_sp500_data(period=DATA_PERIOD)\n",
        "\n",
        "if success:\n",
        "    print(f\"✅ Datos cargados exitosamente\")\n",
        "    print(f\"📈 Total de puntos: {len(system.data)}\")\n",
        "    \n",
        "    # Mostrar información de los datos\n",
        "    data_info = pd.DataFrame({\n",
        "        'Columna': system.data.columns,\n",
        "        'Datos Disponibles': [system.data[col].notna().sum() for col in system.data.columns],\n",
        "        'Datos Faltantes': [system.data[col].isna().sum() for col in system.data.columns]\n",
        "    })\n",
        "    \n",
        "    display(HTML(\"<h4>📋 Información de los Datos:</h4>\"))\n",
        "    display(data_info)\n",
        "    \n",
        "    # Estadísticas básicas del precio\n",
        "    price_stats = system.data['price'].describe()\n",
        "    display(HTML(\"<h4>📊 Estadísticas del Precio:</h4>\"))\n",
        "    display(price_stats)\n",
        "    \n",
        "else:\n",
        "    print(\"❌ Error cargando datos\")\n"
      ]
    },
    {
      "cell_type": "raw",
      "metadata": {
        "vscode": {
          "languageId": "raw"
        }
      },
      "source": [
        "## 4. 🔄 Ejecución del Backtest\n"
      ]
    },
    {
      "cell_type": "code",
      "execution_count": null,
      "metadata": {},
      "outputs": [],
      "source": [
        "# Ejecutar backtest avanzado\n",
        "if success:\n",
        "    print(\"🚀 Iniciando backtest avanzado...\")\n",
        "    print(\"⏳ Esto puede tomar unos momentos...\")\n",
        "    \n",
        "    # Configurar parámetros del backtest\n",
        "    start_step = 100  # Dar tiempo para que se calculen los indicadores\n",
        "    end_step = len(system.data) - 50  # Dejar margen al final\n",
        "    \n",
        "    print(f\"📊 Rango de backtest: {start_step} - {end_step} ({end_step - start_step} steps)\")\n",
        "    \n",
        "    # Ejecutar\n",
        "    metrics = system.run_backtest(start_step=start_step, end_step=end_step)\n",
        "    \n",
        "    if metrics and metrics.get('total_trades', 0) > 0:\n",
        "        print(\"\\\\n🎉 ¡Backtest completado exitosamente!\")\n",
        "        \n",
        "        # Mostrar resumen rápido\n",
        "        quick_summary = f\"\"\"\n",
        "        📈 RESUMEN RÁPIDO:\n",
        "        • Total Trades: {metrics['total_trades']}\n",
        "        • Win Rate: {metrics['win_rate']:.1f}%\n",
        "        • Retorno Total: ${metrics['total_return_abs']:.2f}\n",
        "        • Sharpe Ratio: {metrics['sharpe_ratio']:.3f}\n",
        "        • Max Drawdown: ${metrics['max_drawdown']:.2f}\n",
        "        \"\"\"\n",
        "        print(quick_summary)\n",
        "        \n",
        "    else:\n",
        "        print(\"❌ No se generaron trades suficientes\")\n",
        "        print(\"💡 Intenta ajustar los parámetros o el período de datos\")\n",
        "else:\n",
        "    print(\"⏭️ Saltando backtest por error en carga de datos\")\n"
      ]
    },
    {
      "cell_type": "raw",
      "metadata": {
        "vscode": {
          "languageId": "raw"
        }
      },
      "source": [
        "## 5. 📊 Visualizaciones Principales\n"
      ]
    },
    {
      "cell_type": "code",
      "execution_count": null,
      "metadata": {},
      "outputs": [],
      "source": [
        "# Generar dashboard completo y visualizaciones separadas\n",
        "if 'metrics' in locals() and metrics and success:\n",
        "    print(\"🎨 Generando visualizaciones...\")\n",
        "    \n",
        "    # Generar dashboard original\n",
        "    system.create_comprehensive_dashboard()\n",
        "    \n",
        "    # Mostrar dashboard si existe (nueva ruta)\n",
        "    dashboard_path = os.path.join('..', 'data', 'results', 'trading_analysis', 'visualizations', 'dashboard_avanzado.png')\n",
        "    if os.path.exists(dashboard_path):\n",
        "        display(HTML(\"<h3>📊 Dashboard Completo:</h3>\"))\n",
        "        display(Image(dashboard_path, width=1000))\n",
        "        print(f\"✅ Dashboard disponible en: {dashboard_path}\")\n",
        "    else:\n",
        "        print(\"⚠️ Dashboard no encontrado en la nueva ubicación\")\n",
        "    \n",
        "    print(\"✅ Dashboard completo generado\")\n",
        "    \n",
        "else:\n",
        "    print(\"❌ No hay datos para generar visualizaciones\")\n"
      ]
    },
    {
      "cell_type": "raw",
      "metadata": {
        "vscode": {
          "languageId": "raw"
        }
      },
      "source": [
        "## 6. 📈 Generar Visualizaciones Separadas y CSV\n"
      ]
    },
    {
      "cell_type": "code",
      "execution_count": null,
      "metadata": {},
      "outputs": [],
      "source": [
        "# Ejecutar script para generar múltiples visualizaciones y CSV\n",
        "import subprocess\n",
        "\n",
        "print(\"🚀 Generando visualizaciones separadas y exportando CSV...\")\n",
        "print(\"⏳ Esto puede tomar unos momentos...\")\n",
        "\n",
        "try:\n",
        "    # Ejecutar script de visualizaciones limpias (nueva ruta)\n",
        "    script_path = os.path.join('..', 'scripts', 'generate_clean_visualizations.py')\n",
        "    result = subprocess.run(['python', script_path], \n",
        "                          capture_output=True, text=True, timeout=120)\n",
        "    \n",
        "    if result.returncode == 0:\n",
        "        print(\"✅ Visualizaciones generadas exitosamente\")\n",
        "        if result.stdout:\n",
        "            print(\"📋 Salida del script:\")\n",
        "            print(result.stdout)\n",
        "    else:\n",
        "        print(\"⚠️ Script completado con advertencias\")\n",
        "        if result.stderr:\n",
        "            print(\"Errores:\", result.stderr)\n",
        "            \n",
        "except subprocess.TimeoutExpired:\n",
        "    print(\"⏰ Script tardó demasiado, pero puede haber generado archivos\")\n",
        "except Exception as e:\n",
        "    print(f\"❌ Error ejecutando script: {e}\")\n",
        "\n",
        "# Verificar archivos generados en las nuevas ubicaciones\n",
        "import glob\n",
        "\n",
        "# Rutas de las nuevas ubicaciones\n",
        "viz_dir = os.path.join('..', 'data', 'results', 'trading_analysis', 'visualizations')\n",
        "csv_dir = os.path.join('..', 'data', 'results', 'trading_analysis', 'csv_exports')\n",
        "\n",
        "png_files = sorted(glob.glob(os.path.join(viz_dir, \"*.png\")))\n",
        "csv_files = sorted(glob.glob(os.path.join(csv_dir, \"*.csv\")))\n",
        "\n",
        "print(f\"\\\\n📁 Archivos PNG generados ({len(png_files)}):\")\n",
        "for file in png_files:\n",
        "    size_mb = os.path.getsize(file) / (1024*1024)\n",
        "    filename = os.path.basename(file)\n",
        "    print(f\"   • {filename} ({size_mb:.1f} MB)\")\n",
        "\n",
        "print(f\"\\\\n📊 Archivos CSV generados ({len(csv_files)}):\")\n",
        "for file in csv_files:\n",
        "    size_kb = os.path.getsize(file) / 1024\n",
        "    filename = os.path.basename(file)\n",
        "    print(f\"   • {filename} ({size_kb:.1f} KB)\")\n"
      ]
    },
    {
      "cell_type": "raw",
      "metadata": {
        "vscode": {
          "languageId": "raw"
        }
      },
      "source": [
        "## 7. 📊 Examinar Datos CSV Exportados\n"
      ]
    },
    {
      "cell_type": "code",
      "execution_count": null,
      "metadata": {},
      "outputs": [],
      "source": [
        "# Examinar los archivos CSV generados\n",
        "csv_dir = os.path.join('..', 'data', 'results', 'trading_analysis', 'csv_exports')\n",
        "csv_files_to_examine = [\n",
        "    'trades_detallados.csv',\n",
        "    'metricas_resumen.csv', \n",
        "    'estadisticas_adicionales.csv'\n",
        "]\n",
        "\n",
        "for csv_filename in csv_files_to_examine:\n",
        "    csv_file = os.path.join(csv_dir, csv_filename)\n",
        "    if os.path.exists(csv_file):\n",
        "        display(HTML(f\"<h4>📋 {csv_filename.replace('_', ' ').title()}:</h4>\"))\n",
        "        \n",
        "        try:\n",
        "            df = pd.read_csv(csv_file, encoding='utf-8-sig')\n",
        "            display(df)\n",
        "            \n",
        "            # Información adicional para trades detallados\n",
        "            if 'trades_detallados' in csv_filename:\n",
        "                display(HTML(f\"<p><strong>Total de registros:</strong> {len(df)}</p>\"))\n",
        "                if 'Ganancia_Perdida' in df.columns:\n",
        "                    ganancia_count = (df['Ganancia_Perdida'] == 'GANANCIA').sum()\n",
        "                    perdida_count = (df['Ganancia_Perdida'] == 'PERDIDA').sum()\n",
        "                    display(HTML(f\"<p><strong>Ganancias:</strong> {ganancia_count} | <strong>Pérdidas:</strong> {perdida_count}</p>\"))\n",
        "            \n",
        "        except Exception as e:\n",
        "            display(HTML(f\"<p style='color: red;'>Error leyendo {csv_filename}: {e}</p>\"))\n",
        "        \n",
        "        display(HTML(\"<hr>\"))\n",
        "    else:\n",
        "        display(HTML(f\"<p style='color: orange;'>⚠️ Archivo {csv_filename} no encontrado en {csv_dir}</p>\"))\n"
      ]
    },
    {
      "cell_type": "raw",
      "metadata": {
        "vscode": {
          "languageId": "raw"
        }
      },
      "source": [
        "## 8. 🖼️ Mostrar Visualizaciones Individuales\n"
      ]
    },
    {
      "cell_type": "code",
      "execution_count": null,
      "metadata": {},
      "outputs": [],
      "source": [
        "# Mostrar las visualizaciones individuales generadas\n",
        "viz_dir = os.path.join('..', 'data', 'results', 'trading_analysis', 'visualizations')\n",
        "visualization_files = [\n",
        "    ('01_precio_y_trades_detallado.png', 'Precio y Trades Detallado'),\n",
        "    ('02_metricas_financieras_panel.png', 'Panel de Métricas Financieras'),\n",
        "    ('03_distribuciones_estadisticas.png', 'Distribuciones y Estadísticas'),\n",
        "    ('04_equity_y_drawdown.png', 'Equity y Drawdown'),\n",
        "    ('05_analisis_performance.png', 'Análisis de Performance'),\n",
        "    ('06_tabla_trades_detallada.png', 'Tabla de Trades Detallada')\n",
        "]\n",
        "\n",
        "for filename, title in visualization_files:\n",
        "    full_path = os.path.join(viz_dir, filename)\n",
        "    if os.path.exists(full_path):\n",
        "        display(HTML(f\"<h4>📊 {title}:</h4>\"))\n",
        "        display(Image(full_path, width=900))\n",
        "        display(HTML(\"<hr>\"))\n",
        "    else:\n",
        "        display(HTML(f\"<p style='color: orange;'>⚠️ {filename} no encontrado en {viz_dir}</p>\"))\n"
      ]
    },
    {
      "cell_type": "raw",
      "metadata": {
        "vscode": {
          "languageId": "raw"
        }
      },
      "source": [
        "## 9. 📝 Resumen Final y Próximos Pasos\n"
      ]
    },
    {
      "cell_type": "code",
      "execution_count": null,
      "metadata": {},
      "outputs": [],
      "source": [
        "# Resumen final del análisis\n",
        "if 'metrics' in locals() and metrics:\n",
        "    \n",
        "    final_summary = f\"\"\"\n",
        "    🎉 ANÁLISIS COMPLETADO EXITOSAMENTE\n",
        "    \n",
        "    📊 RESULTADOS PRINCIPALES:\n",
        "    • Sistema ejecutado con {metrics['total_trades']} trades\n",
        "    • Win Rate alcanzado: {metrics['win_rate']:.1f}%\n",
        "    • Retorno total generado: ${metrics['total_return_abs']:.2f}\n",
        "    • Sharpe Ratio: {metrics['sharpe_ratio']:.3f}\n",
        "    • Control PID y MAPE implementados\n",
        "    \n",
        "    📁 ARCHIVOS GENERADOS:\n",
        "    • {len([f for f in glob.glob('*.png')])} visualizaciones PNG\n",
        "    • 3 archivos CSV con datos detallados\n",
        "    • 1 notebook Jupyter ejecutable\n",
        "    \n",
        "    🔧 CARACTERÍSTICAS IMPLEMENTADAS:\n",
        "    ✅ Tracking completo de trades con IDs únicos\n",
        "    ✅ Métricas financieras avanzadas (Sharpe, Drawdown, Profit Factor)\n",
        "    ✅ Control PID para optimización de señales\n",
        "    ✅ MAPE para evaluación de predicciones ML\n",
        "    ✅ Exportación completa a CSV\n",
        "    ✅ Visualizaciones separadas y claras\n",
        "    ✅ Integración con datos SP500 (Yahoo Finance)\n",
        "    ✅ Preparación para trading Bitcoin (Binance)\n",
        "    \"\"\"\n",
        "    \n",
        "    print(final_summary)\n",
        "    \n",
        "    # Recomendaciones\n",
        "    display(HTML(\"\"\"\n",
        "    <h3>🚀 PRÓXIMOS PASOS RECOMENDADOS:</h3>\n",
        "    <ol>\n",
        "        <li><strong>Optimización de Parámetros:</strong> Experimenta con diferentes valores de PID (Kp, Ki, Kd)</li>\n",
        "        <li><strong>Backtesting Extendido:</strong> Prueba con períodos más largos (2-5 años)</li>\n",
        "        <li><strong>Trading en Vivo:</strong> Configura Binance API para Bitcoin trading</li>\n",
        "        <li><strong>Machine Learning:</strong> Entrena modelos con más datos históricos</li>\n",
        "        <li><strong>Risk Management:</strong> Ajusta stop-loss y take-profit según volatilidad</li>\n",
        "    </ol>\n",
        "    \n",
        "    <h3>📋 ARCHIVOS PARA USAR:</h3>\n",
        "    <ul>\n",
        "        <li><strong>trades_detallados.csv:</strong> Todos los trades con información completa</li>\n",
        "        <li><strong>metricas_resumen.csv:</strong> KPIs del sistema</li>\n",
        "        <li><strong>estadisticas_adicionales.csv:</strong> Métricas adicionales</li>\n",
        "        <li><strong>advanced_trading_notebook.ipynb:</strong> Este notebook para análisis futuro</li>\n",
        "        <li><strong>Visualizaciones PNG:</strong> Para presentaciones e informes</li>\n",
        "    </ul>\n",
        "    \"\"\"))\n",
        "    \n",
        "else:\n",
        "    print(\"❌ No hay métricas disponibles para el resumen\")\n"
      ]
    }
  ],
  "metadata": {
    "language_info": {
      "name": "python"
    }
  },
  "nbformat": 4,
  "nbformat_minor": 2
}
